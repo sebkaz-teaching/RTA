{
 "cells": [
  {
   "cell_type": "code",
   "execution_count": 1,
   "id": "f52c3f13",
   "metadata": {},
   "outputs": [],
   "source": [
    "import numpy as np\n",
    "import pandas as pd\n",
    "from sklearn.datasets import load_iris"
   ]
  },
  {
   "cell_type": "code",
   "execution_count": 2,
   "id": "95eacfda",
   "metadata": {},
   "outputs": [],
   "source": [
    "iris = load_iris()\n",
    "df = pd.DataFrame(data= np.c_[iris['data'], iris['target']],\n",
    "                     columns= iris['feature_names'] + ['target'])"
   ]
  },
  {
   "cell_type": "code",
   "execution_count": 3,
   "id": "fd242df0",
   "metadata": {},
   "outputs": [
    {
     "data": {
      "text/html": [
       "<div>\n",
       "<style scoped>\n",
       "    .dataframe tbody tr th:only-of-type {\n",
       "        vertical-align: middle;\n",
       "    }\n",
       "\n",
       "    .dataframe tbody tr th {\n",
       "        vertical-align: top;\n",
       "    }\n",
       "\n",
       "    .dataframe thead th {\n",
       "        text-align: right;\n",
       "    }\n",
       "</style>\n",
       "<table border=\"1\" class=\"dataframe\">\n",
       "  <thead>\n",
       "    <tr style=\"text-align: right;\">\n",
       "      <th></th>\n",
       "      <th>sepal length (cm)</th>\n",
       "      <th>sepal width (cm)</th>\n",
       "      <th>petal length (cm)</th>\n",
       "      <th>petal width (cm)</th>\n",
       "      <th>target</th>\n",
       "    </tr>\n",
       "  </thead>\n",
       "  <tbody>\n",
       "    <tr>\n",
       "      <th>0</th>\n",
       "      <td>5.1</td>\n",
       "      <td>3.5</td>\n",
       "      <td>1.4</td>\n",
       "      <td>0.2</td>\n",
       "      <td>0.0</td>\n",
       "    </tr>\n",
       "    <tr>\n",
       "      <th>1</th>\n",
       "      <td>4.9</td>\n",
       "      <td>3.0</td>\n",
       "      <td>1.4</td>\n",
       "      <td>0.2</td>\n",
       "      <td>0.0</td>\n",
       "    </tr>\n",
       "    <tr>\n",
       "      <th>2</th>\n",
       "      <td>4.7</td>\n",
       "      <td>3.2</td>\n",
       "      <td>1.3</td>\n",
       "      <td>0.2</td>\n",
       "      <td>0.0</td>\n",
       "    </tr>\n",
       "    <tr>\n",
       "      <th>3</th>\n",
       "      <td>4.6</td>\n",
       "      <td>3.1</td>\n",
       "      <td>1.5</td>\n",
       "      <td>0.2</td>\n",
       "      <td>0.0</td>\n",
       "    </tr>\n",
       "    <tr>\n",
       "      <th>4</th>\n",
       "      <td>5.0</td>\n",
       "      <td>3.6</td>\n",
       "      <td>1.4</td>\n",
       "      <td>0.2</td>\n",
       "      <td>0.0</td>\n",
       "    </tr>\n",
       "  </tbody>\n",
       "</table>\n",
       "</div>"
      ],
      "text/plain": [
       "   sepal length (cm)  sepal width (cm)  petal length (cm)  petal width (cm)  \\\n",
       "0                5.1               3.5                1.4               0.2   \n",
       "1                4.9               3.0                1.4               0.2   \n",
       "2                4.7               3.2                1.3               0.2   \n",
       "3                4.6               3.1                1.5               0.2   \n",
       "4                5.0               3.6                1.4               0.2   \n",
       "\n",
       "   target  \n",
       "0     0.0  \n",
       "1     0.0  \n",
       "2     0.0  \n",
       "3     0.0  \n",
       "4     0.0  "
      ]
     },
     "execution_count": 3,
     "metadata": {},
     "output_type": "execute_result"
    }
   ],
   "source": [
    "df.head()"
   ]
  },
  {
   "cell_type": "code",
   "execution_count": 6,
   "id": "b68e8d8e",
   "metadata": {},
   "outputs": [],
   "source": [
    "from sqlalchemy import create_engine\n",
    "\n",
    "engine = create_engine('sqlite:///irysy.db')"
   ]
  },
  {
   "cell_type": "code",
   "execution_count": 7,
   "id": "424c33fd",
   "metadata": {},
   "outputs": [],
   "source": [
    "df.to_sql('dane', con=engine, index=False)"
   ]
  },
  {
   "cell_type": "code",
   "execution_count": 8,
   "id": "e6ba03d0",
   "metadata": {},
   "outputs": [],
   "source": [
    "a = engine.execute(\"SELECT * FROM dane\").fetchall()"
   ]
  },
  {
   "cell_type": "code",
   "execution_count": 9,
   "id": "cedfae8b",
   "metadata": {},
   "outputs": [
    {
     "data": {
      "text/plain": [
       "[(5.1, 3.5, 1.4, 0.2, 0.0),\n",
       " (4.9, 3.0, 1.4, 0.2, 0.0),\n",
       " (4.7, 3.2, 1.3, 0.2, 0.0),\n",
       " (4.6, 3.1, 1.5, 0.2, 0.0),\n",
       " (5.0, 3.6, 1.4, 0.2, 0.0),\n",
       " (5.4, 3.9, 1.7, 0.4, 0.0),\n",
       " (4.6, 3.4, 1.4, 0.3, 0.0),\n",
       " (5.0, 3.4, 1.5, 0.2, 0.0),\n",
       " (4.4, 2.9, 1.4, 0.2, 0.0),\n",
       " (4.9, 3.1, 1.5, 0.1, 0.0),\n",
       " (5.4, 3.7, 1.5, 0.2, 0.0),\n",
       " (4.8, 3.4, 1.6, 0.2, 0.0),\n",
       " (4.8, 3.0, 1.4, 0.1, 0.0),\n",
       " (4.3, 3.0, 1.1, 0.1, 0.0),\n",
       " (5.8, 4.0, 1.2, 0.2, 0.0),\n",
       " (5.7, 4.4, 1.5, 0.4, 0.0),\n",
       " (5.4, 3.9, 1.3, 0.4, 0.0),\n",
       " (5.1, 3.5, 1.4, 0.3, 0.0),\n",
       " (5.7, 3.8, 1.7, 0.3, 0.0),\n",
       " (5.1, 3.8, 1.5, 0.3, 0.0),\n",
       " (5.4, 3.4, 1.7, 0.2, 0.0),\n",
       " (5.1, 3.7, 1.5, 0.4, 0.0),\n",
       " (4.6, 3.6, 1.0, 0.2, 0.0),\n",
       " (5.1, 3.3, 1.7, 0.5, 0.0),\n",
       " (4.8, 3.4, 1.9, 0.2, 0.0),\n",
       " (5.0, 3.0, 1.6, 0.2, 0.0),\n",
       " (5.0, 3.4, 1.6, 0.4, 0.0),\n",
       " (5.2, 3.5, 1.5, 0.2, 0.0),\n",
       " (5.2, 3.4, 1.4, 0.2, 0.0),\n",
       " (4.7, 3.2, 1.6, 0.2, 0.0),\n",
       " (4.8, 3.1, 1.6, 0.2, 0.0),\n",
       " (5.4, 3.4, 1.5, 0.4, 0.0),\n",
       " (5.2, 4.1, 1.5, 0.1, 0.0),\n",
       " (5.5, 4.2, 1.4, 0.2, 0.0),\n",
       " (4.9, 3.1, 1.5, 0.2, 0.0),\n",
       " (5.0, 3.2, 1.2, 0.2, 0.0),\n",
       " (5.5, 3.5, 1.3, 0.2, 0.0),\n",
       " (4.9, 3.6, 1.4, 0.1, 0.0),\n",
       " (4.4, 3.0, 1.3, 0.2, 0.0),\n",
       " (5.1, 3.4, 1.5, 0.2, 0.0),\n",
       " (5.0, 3.5, 1.3, 0.3, 0.0),\n",
       " (4.5, 2.3, 1.3, 0.3, 0.0),\n",
       " (4.4, 3.2, 1.3, 0.2, 0.0),\n",
       " (5.0, 3.5, 1.6, 0.6, 0.0),\n",
       " (5.1, 3.8, 1.9, 0.4, 0.0),\n",
       " (4.8, 3.0, 1.4, 0.3, 0.0),\n",
       " (5.1, 3.8, 1.6, 0.2, 0.0),\n",
       " (4.6, 3.2, 1.4, 0.2, 0.0),\n",
       " (5.3, 3.7, 1.5, 0.2, 0.0),\n",
       " (5.0, 3.3, 1.4, 0.2, 0.0),\n",
       " (7.0, 3.2, 4.7, 1.4, 1.0),\n",
       " (6.4, 3.2, 4.5, 1.5, 1.0),\n",
       " (6.9, 3.1, 4.9, 1.5, 1.0),\n",
       " (5.5, 2.3, 4.0, 1.3, 1.0),\n",
       " (6.5, 2.8, 4.6, 1.5, 1.0),\n",
       " (5.7, 2.8, 4.5, 1.3, 1.0),\n",
       " (6.3, 3.3, 4.7, 1.6, 1.0),\n",
       " (4.9, 2.4, 3.3, 1.0, 1.0),\n",
       " (6.6, 2.9, 4.6, 1.3, 1.0),\n",
       " (5.2, 2.7, 3.9, 1.4, 1.0),\n",
       " (5.0, 2.0, 3.5, 1.0, 1.0),\n",
       " (5.9, 3.0, 4.2, 1.5, 1.0),\n",
       " (6.0, 2.2, 4.0, 1.0, 1.0),\n",
       " (6.1, 2.9, 4.7, 1.4, 1.0),\n",
       " (5.6, 2.9, 3.6, 1.3, 1.0),\n",
       " (6.7, 3.1, 4.4, 1.4, 1.0),\n",
       " (5.6, 3.0, 4.5, 1.5, 1.0),\n",
       " (5.8, 2.7, 4.1, 1.0, 1.0),\n",
       " (6.2, 2.2, 4.5, 1.5, 1.0),\n",
       " (5.6, 2.5, 3.9, 1.1, 1.0),\n",
       " (5.9, 3.2, 4.8, 1.8, 1.0),\n",
       " (6.1, 2.8, 4.0, 1.3, 1.0),\n",
       " (6.3, 2.5, 4.9, 1.5, 1.0),\n",
       " (6.1, 2.8, 4.7, 1.2, 1.0),\n",
       " (6.4, 2.9, 4.3, 1.3, 1.0),\n",
       " (6.6, 3.0, 4.4, 1.4, 1.0),\n",
       " (6.8, 2.8, 4.8, 1.4, 1.0),\n",
       " (6.7, 3.0, 5.0, 1.7, 1.0),\n",
       " (6.0, 2.9, 4.5, 1.5, 1.0),\n",
       " (5.7, 2.6, 3.5, 1.0, 1.0),\n",
       " (5.5, 2.4, 3.8, 1.1, 1.0),\n",
       " (5.5, 2.4, 3.7, 1.0, 1.0),\n",
       " (5.8, 2.7, 3.9, 1.2, 1.0),\n",
       " (6.0, 2.7, 5.1, 1.6, 1.0),\n",
       " (5.4, 3.0, 4.5, 1.5, 1.0),\n",
       " (6.0, 3.4, 4.5, 1.6, 1.0),\n",
       " (6.7, 3.1, 4.7, 1.5, 1.0),\n",
       " (6.3, 2.3, 4.4, 1.3, 1.0),\n",
       " (5.6, 3.0, 4.1, 1.3, 1.0),\n",
       " (5.5, 2.5, 4.0, 1.3, 1.0),\n",
       " (5.5, 2.6, 4.4, 1.2, 1.0),\n",
       " (6.1, 3.0, 4.6, 1.4, 1.0),\n",
       " (5.8, 2.6, 4.0, 1.2, 1.0),\n",
       " (5.0, 2.3, 3.3, 1.0, 1.0),\n",
       " (5.6, 2.7, 4.2, 1.3, 1.0),\n",
       " (5.7, 3.0, 4.2, 1.2, 1.0),\n",
       " (5.7, 2.9, 4.2, 1.3, 1.0),\n",
       " (6.2, 2.9, 4.3, 1.3, 1.0),\n",
       " (5.1, 2.5, 3.0, 1.1, 1.0),\n",
       " (5.7, 2.8, 4.1, 1.3, 1.0),\n",
       " (6.3, 3.3, 6.0, 2.5, 2.0),\n",
       " (5.8, 2.7, 5.1, 1.9, 2.0),\n",
       " (7.1, 3.0, 5.9, 2.1, 2.0),\n",
       " (6.3, 2.9, 5.6, 1.8, 2.0),\n",
       " (6.5, 3.0, 5.8, 2.2, 2.0),\n",
       " (7.6, 3.0, 6.6, 2.1, 2.0),\n",
       " (4.9, 2.5, 4.5, 1.7, 2.0),\n",
       " (7.3, 2.9, 6.3, 1.8, 2.0),\n",
       " (6.7, 2.5, 5.8, 1.8, 2.0),\n",
       " (7.2, 3.6, 6.1, 2.5, 2.0),\n",
       " (6.5, 3.2, 5.1, 2.0, 2.0),\n",
       " (6.4, 2.7, 5.3, 1.9, 2.0),\n",
       " (6.8, 3.0, 5.5, 2.1, 2.0),\n",
       " (5.7, 2.5, 5.0, 2.0, 2.0),\n",
       " (5.8, 2.8, 5.1, 2.4, 2.0),\n",
       " (6.4, 3.2, 5.3, 2.3, 2.0),\n",
       " (6.5, 3.0, 5.5, 1.8, 2.0),\n",
       " (7.7, 3.8, 6.7, 2.2, 2.0),\n",
       " (7.7, 2.6, 6.9, 2.3, 2.0),\n",
       " (6.0, 2.2, 5.0, 1.5, 2.0),\n",
       " (6.9, 3.2, 5.7, 2.3, 2.0),\n",
       " (5.6, 2.8, 4.9, 2.0, 2.0),\n",
       " (7.7, 2.8, 6.7, 2.0, 2.0),\n",
       " (6.3, 2.7, 4.9, 1.8, 2.0),\n",
       " (6.7, 3.3, 5.7, 2.1, 2.0),\n",
       " (7.2, 3.2, 6.0, 1.8, 2.0),\n",
       " (6.2, 2.8, 4.8, 1.8, 2.0),\n",
       " (6.1, 3.0, 4.9, 1.8, 2.0),\n",
       " (6.4, 2.8, 5.6, 2.1, 2.0),\n",
       " (7.2, 3.0, 5.8, 1.6, 2.0),\n",
       " (7.4, 2.8, 6.1, 1.9, 2.0),\n",
       " (7.9, 3.8, 6.4, 2.0, 2.0),\n",
       " (6.4, 2.8, 5.6, 2.2, 2.0),\n",
       " (6.3, 2.8, 5.1, 1.5, 2.0),\n",
       " (6.1, 2.6, 5.6, 1.4, 2.0),\n",
       " (7.7, 3.0, 6.1, 2.3, 2.0),\n",
       " (6.3, 3.4, 5.6, 2.4, 2.0),\n",
       " (6.4, 3.1, 5.5, 1.8, 2.0),\n",
       " (6.0, 3.0, 4.8, 1.8, 2.0),\n",
       " (6.9, 3.1, 5.4, 2.1, 2.0),\n",
       " (6.7, 3.1, 5.6, 2.4, 2.0),\n",
       " (6.9, 3.1, 5.1, 2.3, 2.0),\n",
       " (5.8, 2.7, 5.1, 1.9, 2.0),\n",
       " (6.8, 3.2, 5.9, 2.3, 2.0),\n",
       " (6.7, 3.3, 5.7, 2.5, 2.0),\n",
       " (6.7, 3.0, 5.2, 2.3, 2.0),\n",
       " (6.3, 2.5, 5.0, 1.9, 2.0),\n",
       " (6.5, 3.0, 5.2, 2.0, 2.0),\n",
       " (6.2, 3.4, 5.4, 2.3, 2.0),\n",
       " (5.9, 3.0, 5.1, 1.8, 2.0)]"
      ]
     },
     "execution_count": 9,
     "metadata": {},
     "output_type": "execute_result"
    }
   ],
   "source": [
    "a"
   ]
  },
  {
   "cell_type": "code",
   "execution_count": 10,
   "id": "135cef50",
   "metadata": {},
   "outputs": [
    {
     "data": {
      "text/html": [
       "<div>\n",
       "<style scoped>\n",
       "    .dataframe tbody tr th:only-of-type {\n",
       "        vertical-align: middle;\n",
       "    }\n",
       "\n",
       "    .dataframe tbody tr th {\n",
       "        vertical-align: top;\n",
       "    }\n",
       "\n",
       "    .dataframe thead th {\n",
       "        text-align: right;\n",
       "    }\n",
       "</style>\n",
       "<table border=\"1\" class=\"dataframe\">\n",
       "  <thead>\n",
       "    <tr style=\"text-align: right;\">\n",
       "      <th></th>\n",
       "      <th>sepal length (cm)</th>\n",
       "      <th>sepal width (cm)</th>\n",
       "      <th>petal length (cm)</th>\n",
       "      <th>petal width (cm)</th>\n",
       "      <th>target</th>\n",
       "    </tr>\n",
       "  </thead>\n",
       "  <tbody>\n",
       "    <tr>\n",
       "      <th>0</th>\n",
       "      <td>5.1</td>\n",
       "      <td>3.5</td>\n",
       "      <td>1.4</td>\n",
       "      <td>0.2</td>\n",
       "      <td>0.0</td>\n",
       "    </tr>\n",
       "    <tr>\n",
       "      <th>1</th>\n",
       "      <td>4.9</td>\n",
       "      <td>3.0</td>\n",
       "      <td>1.4</td>\n",
       "      <td>0.2</td>\n",
       "      <td>0.0</td>\n",
       "    </tr>\n",
       "    <tr>\n",
       "      <th>2</th>\n",
       "      <td>4.7</td>\n",
       "      <td>3.2</td>\n",
       "      <td>1.3</td>\n",
       "      <td>0.2</td>\n",
       "      <td>0.0</td>\n",
       "    </tr>\n",
       "    <tr>\n",
       "      <th>3</th>\n",
       "      <td>4.6</td>\n",
       "      <td>3.1</td>\n",
       "      <td>1.5</td>\n",
       "      <td>0.2</td>\n",
       "      <td>0.0</td>\n",
       "    </tr>\n",
       "    <tr>\n",
       "      <th>4</th>\n",
       "      <td>5.0</td>\n",
       "      <td>3.6</td>\n",
       "      <td>1.4</td>\n",
       "      <td>0.2</td>\n",
       "      <td>0.0</td>\n",
       "    </tr>\n",
       "    <tr>\n",
       "      <th>...</th>\n",
       "      <td>...</td>\n",
       "      <td>...</td>\n",
       "      <td>...</td>\n",
       "      <td>...</td>\n",
       "      <td>...</td>\n",
       "    </tr>\n",
       "    <tr>\n",
       "      <th>145</th>\n",
       "      <td>6.7</td>\n",
       "      <td>3.0</td>\n",
       "      <td>5.2</td>\n",
       "      <td>2.3</td>\n",
       "      <td>2.0</td>\n",
       "    </tr>\n",
       "    <tr>\n",
       "      <th>146</th>\n",
       "      <td>6.3</td>\n",
       "      <td>2.5</td>\n",
       "      <td>5.0</td>\n",
       "      <td>1.9</td>\n",
       "      <td>2.0</td>\n",
       "    </tr>\n",
       "    <tr>\n",
       "      <th>147</th>\n",
       "      <td>6.5</td>\n",
       "      <td>3.0</td>\n",
       "      <td>5.2</td>\n",
       "      <td>2.0</td>\n",
       "      <td>2.0</td>\n",
       "    </tr>\n",
       "    <tr>\n",
       "      <th>148</th>\n",
       "      <td>6.2</td>\n",
       "      <td>3.4</td>\n",
       "      <td>5.4</td>\n",
       "      <td>2.3</td>\n",
       "      <td>2.0</td>\n",
       "    </tr>\n",
       "    <tr>\n",
       "      <th>149</th>\n",
       "      <td>5.9</td>\n",
       "      <td>3.0</td>\n",
       "      <td>5.1</td>\n",
       "      <td>1.8</td>\n",
       "      <td>2.0</td>\n",
       "    </tr>\n",
       "  </tbody>\n",
       "</table>\n",
       "<p>150 rows × 5 columns</p>\n",
       "</div>"
      ],
      "text/plain": [
       "     sepal length (cm)  sepal width (cm)  petal length (cm)  petal width (cm)  \\\n",
       "0                  5.1               3.5                1.4               0.2   \n",
       "1                  4.9               3.0                1.4               0.2   \n",
       "2                  4.7               3.2                1.3               0.2   \n",
       "3                  4.6               3.1                1.5               0.2   \n",
       "4                  5.0               3.6                1.4               0.2   \n",
       "..                 ...               ...                ...               ...   \n",
       "145                6.7               3.0                5.2               2.3   \n",
       "146                6.3               2.5                5.0               1.9   \n",
       "147                6.5               3.0                5.2               2.0   \n",
       "148                6.2               3.4                5.4               2.3   \n",
       "149                5.9               3.0                5.1               1.8   \n",
       "\n",
       "     target  \n",
       "0       0.0  \n",
       "1       0.0  \n",
       "2       0.0  \n",
       "3       0.0  \n",
       "4       0.0  \n",
       "..      ...  \n",
       "145     2.0  \n",
       "146     2.0  \n",
       "147     2.0  \n",
       "148     2.0  \n",
       "149     2.0  \n",
       "\n",
       "[150 rows x 5 columns]"
      ]
     },
     "execution_count": 10,
     "metadata": {},
     "output_type": "execute_result"
    }
   ],
   "source": [
    "pd.DataFrame(a, columns=df.columns)"
   ]
  },
  {
   "cell_type": "code",
   "execution_count": 11,
   "id": "21af19fc",
   "metadata": {},
   "outputs": [
    {
     "data": {
      "text/html": [
       "<div>\n",
       "<style scoped>\n",
       "    .dataframe tbody tr th:only-of-type {\n",
       "        vertical-align: middle;\n",
       "    }\n",
       "\n",
       "    .dataframe tbody tr th {\n",
       "        vertical-align: top;\n",
       "    }\n",
       "\n",
       "    .dataframe thead th {\n",
       "        text-align: right;\n",
       "    }\n",
       "</style>\n",
       "<table border=\"1\" class=\"dataframe\">\n",
       "  <thead>\n",
       "    <tr style=\"text-align: right;\">\n",
       "      <th></th>\n",
       "      <th>name</th>\n",
       "    </tr>\n",
       "  </thead>\n",
       "  <tbody>\n",
       "    <tr>\n",
       "      <th>0</th>\n",
       "      <td>User 1</td>\n",
       "    </tr>\n",
       "    <tr>\n",
       "      <th>1</th>\n",
       "      <td>User 2</td>\n",
       "    </tr>\n",
       "    <tr>\n",
       "      <th>2</th>\n",
       "      <td>User 3</td>\n",
       "    </tr>\n",
       "  </tbody>\n",
       "</table>\n",
       "</div>"
      ],
      "text/plain": [
       "     name\n",
       "0  User 1\n",
       "1  User 2\n",
       "2  User 3"
      ]
     },
     "execution_count": 11,
     "metadata": {},
     "output_type": "execute_result"
    }
   ],
   "source": [
    "df2 = pd.DataFrame({'name' : ['User 1', 'User 2', 'User 3']})\n",
    "df2"
   ]
  },
  {
   "cell_type": "code",
   "execution_count": 12,
   "id": "2361743c",
   "metadata": {},
   "outputs": [
    {
     "data": {
      "text/plain": [
       "[(0, 'User 1'), (1, 'User 2'), (2, 'User 3')]"
      ]
     },
     "execution_count": 12,
     "metadata": {},
     "output_type": "execute_result"
    }
   ],
   "source": [
    "df2.to_sql('users', con=engine)\n",
    "\n",
    "engine.execute(\"SELECT * FROM users\").fetchall()"
   ]
  },
  {
   "cell_type": "code",
   "execution_count": 13,
   "id": "5600686b",
   "metadata": {},
   "outputs": [],
   "source": [
    "df3 = pd.DataFrame({'name' : ['User 6', 'User 7']})\n",
    "\n",
    "\n",
    "df3.to_sql('users', con=engine, if_exists='append')"
   ]
  },
  {
   "cell_type": "code",
   "execution_count": 14,
   "id": "b39d4a72",
   "metadata": {},
   "outputs": [
    {
     "data": {
      "text/plain": [
       "[(0, 'User 1'), (1, 'User 2'), (2, 'User 3'), (0, 'User 6'), (1, 'User 7')]"
      ]
     },
     "execution_count": 14,
     "metadata": {},
     "output_type": "execute_result"
    }
   ],
   "source": [
    "engine.execute(\"SELECT * FROM users\").fetchall()"
   ]
  },
  {
   "cell_type": "code",
   "execution_count": 15,
   "id": "c31e5974",
   "metadata": {},
   "outputs": [],
   "source": [
    "from sqlalchemy import create_engine\n",
    "from sqlalchemy import Column, String, Integer\n",
    "from sqlalchemy.ext.declarative import declarative_base\n",
    "from sqlalchemy.orm import sessionmaker"
   ]
  },
  {
   "cell_type": "code",
   "execution_count": 16,
   "id": "f2b19668",
   "metadata": {},
   "outputs": [],
   "source": [
    "engine = create_engine('sqlite:///irysy.db')\n",
    "\n",
    "base = declarative_base()"
   ]
  },
  {
   "cell_type": "code",
   "execution_count": 17,
   "id": "3460cb8b",
   "metadata": {},
   "outputs": [],
   "source": [
    "class Transakcje(base):\n",
    "    \n",
    "    __tablename__ = 'transakcje'\n",
    "    \n",
    "    transakcja_id = Column(Integer, primary_key=True )\n",
    "    data = Column(String)\n",
    "    przedmiot_id = Column(Integer)\n",
    "    cena = Column(Integer)\n",
    "    \n",
    "    def __init__(self, transakcja_id, data, przedmiot_id, cena):\n",
    "        self.transakcja_id = transakcja_id\n",
    "        self.data = data\n",
    "        self.przedmiot_id = przedmiot_id\n",
    "        self.cena = cena"
   ]
  },
  {
   "cell_type": "code",
   "execution_count": 18,
   "id": "79ac589f",
   "metadata": {},
   "outputs": [],
   "source": [
    "# tworzenie tabel\n",
    "base.metadata.create_all(engine)"
   ]
  },
  {
   "cell_type": "code",
   "execution_count": 19,
   "id": "b7be4ebd",
   "metadata": {},
   "outputs": [],
   "source": [
    "from sqlalchemy.orm import sessionmaker\n",
    "# Stworzenie nowej sesji\n",
    "Session = sessionmaker(bind=engine)\n",
    "session = Session()\n",
    "# dodanie danych\n",
    "for t in range(10):\n",
    "    tr = Transakcje(t, f'200{t}/05/06', t**2-t*2, 19)\n",
    "    session.add(tr)\n",
    "# zapis zmian w bazie danych\n",
    "session.commit()"
   ]
  },
  {
   "cell_type": "code",
   "execution_count": 20,
   "id": "7d0f638b",
   "metadata": {},
   "outputs": [
    {
     "name": "stdout",
     "output_type": "stream",
     "text": [
      "0 2000/05/06 19\n",
      "1 2001/05/06 19\n",
      "2 2002/05/06 19\n",
      "3 2003/05/06 19\n",
      "4 2004/05/06 19\n",
      "5 2005/05/06 19\n",
      "6 2006/05/06 19\n",
      "7 2007/05/06 19\n",
      "8 2008/05/06 19\n",
      "9 2009/05/06 19\n"
     ]
    }
   ],
   "source": [
    "# Session = sessionmaker(bind=engine)\n",
    "# session = Session()\n",
    "# wszystkie dane\n",
    "for s in session.query(Transakcje).all():\n",
    "    print(s.transakcja_id, s.data, s.cena)"
   ]
  },
  {
   "cell_type": "code",
   "execution_count": 21,
   "id": "e6a426b9",
   "metadata": {},
   "outputs": [
    {
     "name": "stdout",
     "output_type": "stream",
     "text": [
      "6 2006/05/06\n",
      "7 2007/05/06\n",
      "8 2008/05/06\n",
      "9 2009/05/06\n"
     ]
    }
   ],
   "source": [
    "# wybrane transakcje\n",
    "for s in session.query(Transakcje).filter(Transakcje.transakcja_id>5):\n",
    "    print(s.transakcja_id, s.data)"
   ]
  },
  {
   "cell_type": "code",
   "execution_count": 22,
   "id": "ff6edcaa",
   "metadata": {},
   "outputs": [],
   "source": [
    "import json"
   ]
  },
  {
   "cell_type": "code",
   "execution_count": 23,
   "id": "e703f673",
   "metadata": {},
   "outputs": [
    {
     "data": {
      "text/plain": [
       "{'name': 'Bob', 'languages': ['English', 'Fench']}"
      ]
     },
     "execution_count": 23,
     "metadata": {},
     "output_type": "execute_result"
    }
   ],
   "source": [
    "{\"name\": \"Bob\", \"languages\": [\"English\", \"Fench\"]}"
   ]
  },
  {
   "cell_type": "markdown",
   "id": "d477f296",
   "metadata": {},
   "source": [
    "<name> to jest akapit </name>\n",
    "<languages> english French</languages>"
   ]
  },
  {
   "cell_type": "code",
   "execution_count": 24,
   "id": "ebb8d9da",
   "metadata": {},
   "outputs": [
    {
     "data": {
      "text/plain": [
       "str"
      ]
     },
     "execution_count": 24,
     "metadata": {},
     "output_type": "execute_result"
    }
   ],
   "source": [
    "person = '{\"name\": \"Bob\", \"languages\": [\"English\", \"French\"]}'\n",
    "\n",
    "type(person)"
   ]
  },
  {
   "cell_type": "code",
   "execution_count": 25,
   "id": "e1b4e19b",
   "metadata": {},
   "outputs": [
    {
     "name": "stdout",
     "output_type": "stream",
     "text": [
      "{'name': 'Bob', 'languages': ['English', 'French']}\n",
      "['English', 'French']\n"
     ]
    }
   ],
   "source": [
    "person_dict = json.loads(person)\n",
    "\n",
    "# Output: {'name': 'Bob', 'languages': ['English', 'Fench']}\n",
    "print( person_dict)\n",
    "\n",
    "# Output: ['English', 'French']\n",
    "print(person_dict['languages'])"
   ]
  },
  {
   "cell_type": "code",
   "execution_count": 26,
   "id": "d3fd3e76",
   "metadata": {},
   "outputs": [
    {
     "name": "stdout",
     "output_type": "stream",
     "text": [
      "Overwriting test.json\n"
     ]
    }
   ],
   "source": [
    "%%file test.json\n",
    "\n",
    "\n",
    "{\"name\": \"Bob\", \n",
    "\"languages\": [\"English\", \"Fench\"]\n",
    "}"
   ]
  },
  {
   "cell_type": "code",
   "execution_count": 27,
   "id": "d5233ee1",
   "metadata": {},
   "outputs": [
    {
     "name": "stdout",
     "output_type": "stream",
     "text": [
      "{'name': 'Bob', 'languages': ['English', 'Fench']}\n"
     ]
    }
   ],
   "source": [
    "with open('test.json') as f:\n",
    "    data = json.load(f)\n",
    "\n",
    "# Output: {'name': 'Bob', 'languages': ['English', 'Fench']}\n",
    "print(data)"
   ]
  },
  {
   "cell_type": "code",
   "execution_count": 28,
   "id": "e7e7a655",
   "metadata": {},
   "outputs": [
    {
     "name": "stdout",
     "output_type": "stream",
     "text": [
      "{\"name\": \"Bob\", \"age\": 12, \"children\": null}\n"
     ]
    }
   ],
   "source": [
    "person_dict = {'name': 'Bob',\n",
    "'age': 12,\n",
    "'children': None\n",
    "}\n",
    "person_json = json.dumps(person_dict)\n",
    "\n",
    "print(person_json)\n"
   ]
  },
  {
   "cell_type": "code",
   "execution_count": 29,
   "id": "0162b135",
   "metadata": {},
   "outputs": [],
   "source": [
    "with open('person.json', 'w') as json_file:\n",
    "    json.dump(person_dict, json_file)"
   ]
  },
  {
   "cell_type": "code",
   "execution_count": 30,
   "id": "425feaf0",
   "metadata": {},
   "outputs": [
    {
     "name": "stdout",
     "output_type": "stream",
     "text": [
      "{\n",
      "    \"age\": 12,\n",
      "    \"children\": null,\n",
      "    \"name\": \"Bob\"\n",
      "}\n"
     ]
    }
   ],
   "source": [
    "print(json.dumps(person_dict, indent = 4, sort_keys=True))"
   ]
  },
  {
   "cell_type": "code",
   "execution_count": null,
   "id": "2e117bae",
   "metadata": {},
   "outputs": [],
   "source": [
    "'MongoDB'\n"
   ]
  },
  {
   "cell_type": "code",
   "execution_count": 31,
   "id": "e780a192",
   "metadata": {},
   "outputs": [],
   "source": [
    "from flask import Flask, request\n",
    "from flask_restful import Resource, Api\n",
    "\n",
    "from flask_jsonpify import jsonify"
   ]
  },
  {
   "cell_type": "code",
   "execution_count": 32,
   "id": "9d681bc4",
   "metadata": {},
   "outputs": [],
   "source": [
    "app  = Flask(__name__)\n",
    "\n",
    "api = Api(app)\n",
    "\n",
    "\n",
    "@app.route('/')\n",
    "@app.route('/index')\n",
    "def home():\n",
    "    #return render_template('home.html')\n",
    "    return \"<h1>Strona poczatkowa</h1>\"\n",
    "\n",
    "@app.route('/hello/<name>')\n",
    "def success(name):\n",
    "    return f'<h1>{name}</h1>'\n"
   ]
  },
  {
   "cell_type": "code",
   "execution_count": 34,
   "id": "5c06ac7c",
   "metadata": {},
   "outputs": [],
   "source": [
    "class Main(Resource):\n",
    "    def get(self):\n",
    "        return jsonify(\"Hello world\")"
   ]
  },
  {
   "cell_type": "code",
   "execution_count": 35,
   "id": "10c6ccd1",
   "metadata": {},
   "outputs": [],
   "source": [
    "api.add_resource(Main,'/test')"
   ]
  },
  {
   "cell_type": "code",
   "execution_count": 37,
   "id": "d9b42a7d",
   "metadata": {},
   "outputs": [],
   "source": [
    "class Irys(Resource):\n",
    "    \n",
    "    def get(self):\n",
    "        conn=engine.connect()\n",
    "        query = conn.execute('select * from dane')\n",
    "        result = {'dane':[i for i in query.cursor.fetchall()]}\n",
    "        return jsonify(result)"
   ]
  },
  {
   "cell_type": "code",
   "execution_count": 38,
   "id": "4b3f34d3",
   "metadata": {},
   "outputs": [],
   "source": [
    "api.add_resource(Irys, '/irys')"
   ]
  },
  {
   "cell_type": "code",
   "execution_count": 39,
   "id": "4ec9b0fe",
   "metadata": {},
   "outputs": [
    {
     "name": "stdout",
     "output_type": "stream",
     "text": [
      " * Serving Flask app \"__main__\" (lazy loading)\n",
      " * Environment: production\n",
      "\u001b[31m   WARNING: This is a development server. Do not use it in a production deployment.\u001b[0m\n",
      "\u001b[2m   Use a production WSGI server instead.\u001b[0m\n",
      " * Debug mode: off\n"
     ]
    },
    {
     "name": "stderr",
     "output_type": "stream",
     "text": [
      " * Running on http://127.0.0.1:5002/ (Press CTRL+C to quit)\n",
      "127.0.0.1 - - [13/Apr/2021 20:23:55] \"\u001b[37mGET / HTTP/1.1\u001b[0m\" 200 -\n",
      "127.0.0.1 - - [13/Apr/2021 20:23:58] \"\u001b[37mGET / HTTP/1.1\u001b[0m\" 200 -\n",
      "127.0.0.1 - - [13/Apr/2021 20:23:59] \"\u001b[37mGET /irys HTTP/1.1\u001b[0m\" 200 -\n",
      "127.0.0.1 - - [13/Apr/2021 20:23:59] \"\u001b[33mGET /iris HTTP/1.1\u001b[0m\" 404 -\n",
      "127.0.0.1 - - [13/Apr/2021 20:24:03] \"\u001b[33mGET /iris HTTP/1.1\u001b[0m\" 404 -\n",
      "127.0.0.1 - - [13/Apr/2021 20:24:03] \"\u001b[37mGET /irys HTTP/1.1\u001b[0m\" 200 -\n"
     ]
    }
   ],
   "source": [
    "app.run(port='5002')"
   ]
  },
  {
   "cell_type": "code",
   "execution_count": null,
   "id": "bb67f392",
   "metadata": {},
   "outputs": [],
   "source": []
  }
 ],
 "metadata": {
  "kernelspec": {
   "display_name": "Python 3",
   "language": "python",
   "name": "python3"
  },
  "language_info": {
   "codemirror_mode": {
    "name": "ipython",
    "version": 3
   },
   "file_extension": ".py",
   "mimetype": "text/x-python",
   "name": "python",
   "nbconvert_exporter": "python",
   "pygments_lexer": "ipython3",
   "version": "3.8.8"
  }
 },
 "nbformat": 4,
 "nbformat_minor": 5
}
