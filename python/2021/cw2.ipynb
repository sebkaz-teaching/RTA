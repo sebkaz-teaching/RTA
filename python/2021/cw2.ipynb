{
 "cells": [
  {
   "cell_type": "code",
   "execution_count": null,
   "id": "af9978ac",
   "metadata": {},
   "outputs": [],
   "source": [
    "import this"
   ]
  },
  {
   "cell_type": "code",
   "execution_count": null,
   "id": "e7264271",
   "metadata": {},
   "outputs": [],
   "source": [
    "\"napis\".__dir__()"
   ]
  },
  {
   "cell_type": "code",
   "execution_count": null,
   "id": "dda3496c",
   "metadata": {},
   "outputs": [],
   "source": [
    "\"imie\"+\"nazwisko\""
   ]
  },
  {
   "cell_type": "code",
   "execution_count": null,
   "id": "ad6786cc",
   "metadata": {},
   "outputs": [],
   "source": [
    "dict = {}"
   ]
  },
  {
   "cell_type": "code",
   "execution_count": null,
   "id": "173e3eac",
   "metadata": {},
   "outputs": [],
   "source": [
    "def moja_funkcja():\n",
    "    pass"
   ]
  },
  {
   "cell_type": "code",
   "execution_count": null,
   "id": "db006d3b",
   "metadata": {},
   "outputs": [],
   "source": [
    "class Nazwa():\n",
    "    pass"
   ]
  },
  {
   "cell_type": "code",
   "execution_count": null,
   "id": "97552250",
   "metadata": {},
   "outputs": [],
   "source": [
    "a = Nazwa()\n",
    "b = Nazwa()"
   ]
  },
  {
   "cell_type": "code",
   "execution_count": null,
   "id": "9629cf15",
   "metadata": {},
   "outputs": [],
   "source": [
    "a"
   ]
  },
  {
   "cell_type": "code",
   "execution_count": null,
   "id": "01d1f9d3",
   "metadata": {},
   "outputs": [],
   "source": [
    "[Nazwa() for i in range(10)]"
   ]
  },
  {
   "cell_type": "code",
   "execution_count": null,
   "id": "610cdf05",
   "metadata": {},
   "outputs": [],
   "source": [
    "a.__dir__()"
   ]
  },
  {
   "cell_type": "code",
   "execution_count": null,
   "id": "b4f3d5fb",
   "metadata": {},
   "outputs": [],
   "source": [
    "klient = [38, 'Kawaler', 1, 62.9, [1,2,3],{}]"
   ]
  },
  {
   "cell_type": "code",
   "execution_count": null,
   "id": "71d94cb6",
   "metadata": {},
   "outputs": [],
   "source": [
    "type(klient)"
   ]
  },
  {
   "cell_type": "code",
   "execution_count": null,
   "id": "6e2b72ec",
   "metadata": {},
   "outputs": [],
   "source": [
    "a = [1,2,3]\n",
    "b = [4,5,6]"
   ]
  },
  {
   "cell_type": "code",
   "execution_count": null,
   "id": "e3179ae7",
   "metadata": {},
   "outputs": [],
   "source": [
    "a+b"
   ]
  },
  {
   "cell_type": "code",
   "execution_count": null,
   "id": "1dfc24fe",
   "metadata": {},
   "outputs": [],
   "source": [
    "try:\n",
    "    a*b\n",
    "except TypeError:\n",
    "    print(\"nie możesz wykonać tej operacji\")"
   ]
  },
  {
   "cell_type": "code",
   "execution_count": null,
   "id": "e5daef60",
   "metadata": {},
   "outputs": [],
   "source": [
    "a*b"
   ]
  },
  {
   "cell_type": "code",
   "execution_count": null,
   "id": "eda91e79",
   "metadata": {},
   "outputs": [],
   "source": [
    "import numpy as np"
   ]
  },
  {
   "cell_type": "code",
   "execution_count": null,
   "id": "dd0b7400",
   "metadata": {},
   "outputs": [],
   "source": [
    "aa = np.array(a)\n",
    "bb = np.array(b)"
   ]
  },
  {
   "cell_type": "code",
   "execution_count": null,
   "id": "c89249b9",
   "metadata": {},
   "outputs": [],
   "source": [
    "aa+bb"
   ]
  },
  {
   "cell_type": "code",
   "execution_count": null,
   "id": "b51a6a2d",
   "metadata": {},
   "outputs": [],
   "source": [
    "aa*bb"
   ]
  },
  {
   "cell_type": "code",
   "execution_count": null,
   "id": "0cef806f",
   "metadata": {},
   "outputs": [],
   "source": [
    "from random import randint\n",
    "\n",
    "class Kosc(object):\n",
    "    \"\"\" opis klasy \n",
    "    \"\"\"\n",
    "    def __init__(self,scianki=6):\n",
    "        self.scianki = scianki\n",
    "    \n",
    "    def roll(self):\n",
    "        return randint(1, self.scianki)\n",
    "        \n",
    "        "
   ]
  },
  {
   "cell_type": "code",
   "execution_count": null,
   "id": "ff7732b1",
   "metadata": {},
   "outputs": [],
   "source": [
    "kosc = Kosc()"
   ]
  },
  {
   "cell_type": "code",
   "execution_count": null,
   "id": "a50b9489",
   "metadata": {},
   "outputs": [],
   "source": [
    "results = []\n",
    "for _ in range(10):\n",
    "    result = kosc.roll()\n",
    "    results.append(result)"
   ]
  },
  {
   "cell_type": "code",
   "execution_count": null,
   "id": "2daa0e86",
   "metadata": {},
   "outputs": [],
   "source": [
    "results"
   ]
  },
  {
   "cell_type": "code",
   "execution_count": null,
   "id": "e8e59b9c",
   "metadata": {},
   "outputs": [],
   "source": [
    "x = [kosc.roll() for _ in range(10)]"
   ]
  },
  {
   "cell_type": "code",
   "execution_count": null,
   "id": "01cddea9",
   "metadata": {},
   "outputs": [],
   "source": [
    "[t**2 for t in x]"
   ]
  },
  {
   "cell_type": "markdown",
   "id": "8d644bd0",
   "metadata": {},
   "source": [
    "## CW 2"
   ]
  },
  {
   "cell_type": "code",
   "execution_count": 1,
   "id": "ae8839cd",
   "metadata": {},
   "outputs": [],
   "source": [
    "import numpy as np\n",
    "import pandas as pd"
   ]
  },
  {
   "cell_type": "code",
   "execution_count": 2,
   "id": "b1fda5b8",
   "metadata": {},
   "outputs": [],
   "source": [
    "from sklearn.datasets import load_iris"
   ]
  },
  {
   "cell_type": "code",
   "execution_count": 3,
   "id": "c565849e",
   "metadata": {},
   "outputs": [],
   "source": [
    "iris = load_iris()"
   ]
  },
  {
   "cell_type": "code",
   "execution_count": null,
   "id": "0ded8066",
   "metadata": {},
   "outputs": [],
   "source": [
    "iris"
   ]
  },
  {
   "cell_type": "code",
   "execution_count": null,
   "id": "5ebabe5c",
   "metadata": {},
   "outputs": [],
   "source": [
    "type(iris)"
   ]
  },
  {
   "cell_type": "code",
   "execution_count": null,
   "id": "38321dad",
   "metadata": {},
   "outputs": [],
   "source": [
    "iris.keys()"
   ]
  },
  {
   "cell_type": "code",
   "execution_count": 4,
   "id": "a561db86",
   "metadata": {},
   "outputs": [],
   "source": [
    "df = pd.DataFrame(data=np.c_[iris['data'], iris['target']],\n",
    "                 columns = iris['feature_names']+['target'])"
   ]
  },
  {
   "cell_type": "code",
   "execution_count": null,
   "id": "077c62ac",
   "metadata": {},
   "outputs": [],
   "source": [
    "df"
   ]
  },
  {
   "cell_type": "code",
   "execution_count": 5,
   "id": "88ab2493",
   "metadata": {},
   "outputs": [],
   "source": [
    "df['spacies'] = pd.Categorical.from_codes(iris.target, iris.target_names)"
   ]
  },
  {
   "cell_type": "code",
   "execution_count": null,
   "id": "cbe34c16",
   "metadata": {},
   "outputs": [],
   "source": [
    "df.info()"
   ]
  },
  {
   "cell_type": "code",
   "execution_count": null,
   "id": "d73253b7",
   "metadata": {},
   "outputs": [],
   "source": [
    "df.head()"
   ]
  },
  {
   "cell_type": "code",
   "execution_count": null,
   "id": "4a58f816",
   "metadata": {},
   "outputs": [],
   "source": [
    "df.tail()"
   ]
  },
  {
   "cell_type": "code",
   "execution_count": null,
   "id": "4273e4aa",
   "metadata": {},
   "outputs": [],
   "source": [
    "df.describe()"
   ]
  },
  {
   "cell_type": "code",
   "execution_count": 6,
   "id": "c80756eb",
   "metadata": {},
   "outputs": [],
   "source": [
    "X = df.iloc[:100 ,[0,2] ].values"
   ]
  },
  {
   "cell_type": "code",
   "execution_count": 7,
   "id": "c0d0d85c",
   "metadata": {},
   "outputs": [],
   "source": [
    "df = df.drop(columns=['target'])"
   ]
  },
  {
   "cell_type": "code",
   "execution_count": null,
   "id": "aa92fa53",
   "metadata": {},
   "outputs": [],
   "source": [
    "df"
   ]
  },
  {
   "cell_type": "code",
   "execution_count": 8,
   "id": "9a3fb30e",
   "metadata": {},
   "outputs": [],
   "source": [
    "y = df.iloc[:100 , 4].values"
   ]
  },
  {
   "cell_type": "code",
   "execution_count": null,
   "id": "ba45741e",
   "metadata": {},
   "outputs": [],
   "source": [
    "y"
   ]
  },
  {
   "cell_type": "code",
   "execution_count": null,
   "id": "8fa586b1",
   "metadata": {},
   "outputs": [],
   "source": [
    "y.unique()"
   ]
  },
  {
   "cell_type": "code",
   "execution_count": 9,
   "id": "aa86adc2",
   "metadata": {},
   "outputs": [],
   "source": [
    "y = np.where(y=='setosa',-1,1)"
   ]
  },
  {
   "cell_type": "code",
   "execution_count": 10,
   "id": "95e53b29",
   "metadata": {},
   "outputs": [
    {
     "data": {
      "text/plain": [
       "array([-1, -1, -1, -1, -1, -1, -1, -1, -1, -1, -1, -1, -1, -1, -1, -1, -1,\n",
       "       -1, -1, -1, -1, -1, -1, -1, -1, -1, -1, -1, -1, -1, -1, -1, -1, -1,\n",
       "       -1, -1, -1, -1, -1, -1, -1, -1, -1, -1, -1, -1, -1, -1, -1, -1,  1,\n",
       "        1,  1,  1,  1,  1,  1,  1,  1,  1,  1,  1,  1,  1,  1,  1,  1,  1,\n",
       "        1,  1,  1,  1,  1,  1,  1,  1,  1,  1,  1,  1,  1,  1,  1,  1,  1,\n",
       "        1,  1,  1,  1,  1,  1,  1,  1,  1,  1,  1,  1,  1,  1,  1])"
      ]
     },
     "execution_count": 10,
     "metadata": {},
     "output_type": "execute_result"
    }
   ],
   "source": [
    "y"
   ]
  },
  {
   "cell_type": "code",
   "execution_count": 11,
   "id": "c5a26f4a",
   "metadata": {},
   "outputs": [],
   "source": [
    "import matplotlib.pyplot as plt"
   ]
  },
  {
   "cell_type": "code",
   "execution_count": 12,
   "id": "3a10f4ad",
   "metadata": {},
   "outputs": [
    {
     "data": {
      "image/png": "[encoded data removed]",
      "text/plain": [
       "<Figure size 432x288 with 1 Axes>"
      ]
     },
     "metadata": {
      "needs_background": "light"
     },
     "output_type": "display_data"
    }
   ],
   "source": [
    "plt.scatter(X[:50,0],X[:50,1], color='red', marker='o', label='setosa')\n",
    "plt.scatter(X[50:100,0],X[50:100,1], color='blue', marker='x',\n",
    "            label='versicolor')\n",
    "plt.xlabel('sepal length')\n",
    "plt.ylabel('petal length')\n",
    "plt.legend(loc='upper left')\n",
    "plt.show()"
   ]
  },
  {
   "cell_type": "code",
   "execution_count": null,
   "id": "f3a845d1",
   "metadata": {},
   "outputs": [],
   "source": [
    "import numpy as np\n"
   ]
  },
  {
   "cell_type": "code",
   "execution_count": null,
   "id": "47ba63bf",
   "metadata": {},
   "outputs": [],
   "source": [
    "from keras.datasets import mnist"
   ]
  },
  {
   "cell_type": "code",
   "execution_count": null,
   "id": "7fcc038d",
   "metadata": {},
   "outputs": [],
   "source": [
    "(X_train, y_train),(X_test,y_test) = mnist.load_data()"
   ]
  },
  {
   "cell_type": "code",
   "execution_count": null,
   "id": "903dc607",
   "metadata": {},
   "outputs": [],
   "source": [
    "X_train.shape"
   ]
  },
  {
   "cell_type": "code",
   "execution_count": null,
   "id": "14c12039",
   "metadata": {},
   "outputs": [],
   "source": [
    "from sqlalchemy import create_engine"
   ]
  },
  {
   "cell_type": "code",
   "execution_count": null,
   "id": "d129c6f1",
   "metadata": {},
   "outputs": [],
   "source": [
    "engine = create_engine('sqlite:///irysy.db')"
   ]
  },
  {
   "cell_type": "code",
   "execution_count": null,
   "id": "99b38065",
   "metadata": {},
   "outputs": [],
   "source": [
    "df.to_sql('dane', con=engine, index=False)"
   ]
  },
  {
   "cell_type": "code",
   "execution_count": null,
   "id": "c913745e",
   "metadata": {},
   "outputs": [],
   "source": [
    "a = engine.execute(\"select * from dane\").fetchall()"
   ]
  },
  {
   "cell_type": "code",
   "execution_count": null,
   "id": "d2af9506",
   "metadata": {},
   "outputs": [],
   "source": [
    "df2 = pd.DataFrame(a, columns=df.columns)"
   ]
  },
  {
   "cell_type": "code",
   "execution_count": null,
   "id": "e3532db5",
   "metadata": {},
   "outputs": [],
   "source": [
    "df2"
   ]
  },
  {
   "cell_type": "code",
   "execution_count": null,
   "id": "a30e36ed",
   "metadata": {},
   "outputs": [],
   "source": [
    "from sklearn import datasets\n",
    "from sklearn.ensemble import RandomForestClassifier\n"
   ]
  },
  {
   "cell_type": "code",
   "execution_count": null,
   "id": "44e4d7e3",
   "metadata": {},
   "outputs": [],
   "source": [
    "X, y = datasets.make_classification(n_samples=10**4, n_features=20, n_informative=2)"
   ]
  },
  {
   "cell_type": "code",
   "execution_count": null,
   "id": "496f94d2",
   "metadata": {},
   "outputs": [],
   "source": [
    "train_sample = 7000"
   ]
  },
  {
   "cell_type": "code",
   "execution_count": null,
   "id": "730bdf1d",
   "metadata": {},
   "outputs": [],
   "source": [
    "X_train=X[:train_sample]\n",
    "X_test = X[train_sample:]\n",
    "\n",
    "y_train = y[:train_sample]\n",
    "y_test = y[train_sample:]"
   ]
  },
  {
   "cell_type": "code",
   "execution_count": null,
   "id": "7ac37473",
   "metadata": {},
   "outputs": [],
   "source": [
    "rfc = RandomForestClassifier()\n",
    "rfc.fit(X_train, y_train)"
   ]
  },
  {
   "cell_type": "code",
   "execution_count": null,
   "id": "c34e3524",
   "metadata": {},
   "outputs": [],
   "source": [
    "rfc"
   ]
  },
  {
   "cell_type": "code",
   "execution_count": null,
   "id": "549a3240",
   "metadata": {},
   "outputs": [],
   "source": [
    "import pickle"
   ]
  },
  {
   "cell_type": "code",
   "execution_count": null,
   "id": "226a08db",
   "metadata": {},
   "outputs": [],
   "source": [
    "with open('model.pkl', 'wb') as moj_model:\n",
    "    pickle.dump(rfc, moj_model)"
   ]
  },
  {
   "cell_type": "code",
   "execution_count": null,
   "id": "0330ad36",
   "metadata": {},
   "outputs": [],
   "source": [
    "with open('model.pkl', 'rb') as mm:\n",
    "    model = pickle.load(mm)"
   ]
  },
  {
   "cell_type": "code",
   "execution_count": null,
   "id": "f076a776",
   "metadata": {},
   "outputs": [],
   "source": [
    "model"
   ]
  },
  {
   "cell_type": "code",
   "execution_count": null,
   "id": "1ca52ad1",
   "metadata": {},
   "outputs": [],
   "source": [
    "# joblib library"
   ]
  },
  {
   "cell_type": "code",
   "execution_count": null,
   "id": "e43ee06c",
   "metadata": {},
   "outputs": [],
   "source": []
  },
  {
   "cell_type": "code",
   "execution_count": 20,
   "id": "9d2cb8d3",
   "metadata": {},
   "outputs": [],
   "source": [
    "dziecko = Perceptron()\n",
    "dziecko.fit(X,y)"
   ]
  },
  {
   "cell_type": "code",
   "execution_count": 19,
   "id": "4101c8b7",
   "metadata": {},
   "outputs": [],
   "source": [
    "class Perceptron():\n",
    "    \n",
    "    def __init__(self, eta=0.01, n_iter=10):\n",
    "        self.eta = eta\n",
    "        self.n_iter = n_iter\n",
    "    \n",
    "    def fit(self,X,y):\n",
    "        self.w_ = np.zeros(1+X.shape[1])\n",
    "        self.errors_ = []\n",
    "        for _ in range(self.n_iter):\n",
    "            pass\n",
    "        return self\n",
    "        "
   ]
  },
  {
   "cell_type": "code",
   "execution_count": null,
   "id": "4e7654e8",
   "metadata": {},
   "outputs": [],
   "source": []
  },
  {
   "cell_type": "code",
   "execution_count": null,
   "id": "b83eec0a",
   "metadata": {},
   "outputs": [],
   "source": []
  },
  {
   "cell_type": "code",
   "execution_count": null,
   "id": "e3cb1a41",
   "metadata": {},
   "outputs": [],
   "source": []
  }
 ],
 "metadata": {
  "kernelspec": {
   "display_name": "Python 3",
   "language": "python",
   "name": "python3"
  },
  "language_info": {
   "codemirror_mode": {
    "name": "ipython",
    "version": 3
   },
   "file_extension": ".py",
   "mimetype": "text/x-python",
   "name": "python",
   "nbconvert_exporter": "python",
   "pygments_lexer": "ipython3",
   "version": "3.8.8"
  }
 },
 "nbformat": 4,
 "nbformat_minor": 5
}
