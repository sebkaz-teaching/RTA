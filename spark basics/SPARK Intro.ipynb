{
 "cells": [
  {
   "cell_type": "markdown",
   "id": "dc14d58f",
   "metadata": {},
   "source": [
    "## Podsumowanie poprzednich zajęć \n",
    "\n",
    "Na poprzednich dwóch zajęciach laboratoryjnych zrealizowaliśmy zagadnienia dotyczące przetwarzania danych ustrukturyzowanych i nieustrukturyzowanych w trybie wsadowym. Ponadto przygotowaliśmy środowisko produkcyjne (z wykorzystaniem biblioteki FLASK) wykorzystujące model napisany w pełni obiektowo otrzymany po wstępnym przetworzeniu danych (irys).   \n",
    "\n",
    "1. Ustrukturyzowane dane - tablice numpy, ramki danych Pandas, tabele danych w bazach SQL (tworzenie, filtrowanie, modyfikacja)\n",
    "2. Nieustrukturyzowane dane - JSON, tensory numpy (odczyt, zapis, przetworzenie)\n",
    "3. Wykorzystanie obiektowego programowania w Pythonie - podstawa budowy klas, tworzenie obiektów, korzystanie z pól obiektów i metod (funkcji). \n",
    "4. Stworzenie modelu klasyfikacji binarnej opartego o sieć perceprtornu oraz wykorzystującą algorytm Adeline napisany obiektowo w pełnej analogii do modeli z biblioteki sklearn.\n",
    "5. Wykorzystanie środowiska SQLAlchemy do łączenia się z bazami danych. \n",
    "6. Strona www realizująca API z wykorzystaniem modelu - nowe dane w czasie rzeczywistym + prognoza - Jako system odpytywania modelu w czasie rzeczywistym (Zastanów się jak go unowocześnić) \n",
    "\n",
    "\n",
    "Podczas przerabiania dowolnych technik uczenia maszynowego najczęściej (jeśli nie zawsze) jesteśmy uczeni realizacji zadań takiego systemu z podziałem na trzy podstawowe kategorie:\n",
    "\n",
    "1. Uczenie nadzorowane  - supervised learning\n",
    "    - klasyfikacja - zrealizowany na poprzednich ćwiczeniach\n",
    "    - Regresja liniowa\n",
    "2. Uczenie nienadzorowane - unsupervised learning\n",
    "3. Uczenie przez wzmacnianie - reinforcement learning\n",
    "\n",
    "Jednak systemy te można również klasyfikować ze względu na `możliwość trenowania przyrostowego przy użyciu strumienia nadsyłanych danych`\n",
    "\n",
    "1. **Uczenie wsadowe - batch learning**. To system w którym do jego nauki musisz wykorzysać wszytkie zapisane i już istniejące dane. Zajmuje zazwyczaj dużo czasu i zasobów - przeprowadzany w trybie offline. System wpierw jest uczony, a następnie zostaje wdrożony do cyklu produkcyjnego i już więcej nie jest trenowany (korzysta tylko ze zdobytych wcześniej informacji). Zajwisko to nazywane jest **uczeniem offline**. \n",
    "\n",
    "Jeśli chcesz aby system uczenia wsadowego brał pod uwagę nowe dane to musisz od podstaw wytrenować nową wersję systemu przy użyciu wszystkich dostępnch danych, wyłączyć stary system i zastąpić go nowym. Na szczęście proces ten jest w pełni automatyzowalny. Jednak trzeba pamiętać, iż trenowanie nowego modelu na pełnym zbiorze danych może trwać bardzo długo (i jest dość kosztowne) stąd wymiana modeli pojawia się np raz na tydzień raz na dzień. W przypadku bardzo dużej ilości informacji system taki może szybko przestać działać - zamiast wykonywać swoje zadania będzie obliczał nowy model. \n",
    "\n",
    "2. W procesie **uczenia przyrostowego - online learning** system trenowany jest na bieżąco poprzez sekwencyjne dostarczanie danych (pojedyncze lub minipaczki - mini-batches). Każdy krok uczenia jest szybki i mało kosztowny. Uczenie następuje w momencie pojawienia się nowych danych.  \n",
    "\n",
    "Uczenie przyrostowe sprawdza się wszędzie tam gdzie układ odbiera ciągły strumień danych (urządzenia IoT, giełda) i wymagana jest szybkie i autonomiczne dopasowanie do nowych warunków. Przydaje się również przy pracy z ograniczonymi zasobami obliczeniowymi (stare dane nie są istotne).\n",
    "\n",
    "Dużym problemem uczenia przyrostowego jest stopniowy spadek wydajności systemu w przypadku gdy dostarczone dane przestają być prawidłowe. Np. uszkodzony czujnik, celowe zasypywanie przeglądarki danymi w celu podbicia rankingu w wynikach wyszukiwania (algorytmy wykrywania anomalii).\n",
    "\n",
    "\n",
    "[Stochastic gradient descent](https://en.wikipedia.org/wiki/Stochastic_gradient_descent)\n",
    "\n",
    "[Stochastic learning](https://leon.bottou.org/publications/pdf/mlss-2003.pdf)"
   ]
  },
  {
   "cell_type": "markdown",
   "id": "3d2c19e5",
   "metadata": {},
   "source": [
    "## Środowisko Apache SPARK\n",
    "\n",
    "[książka](https://pages.databricks.com/rs/094-YMS-629/images/LearningSpark2.0.pdf) \n",
    "\n",
    "\n",
    "1. Silnik analityczny do przetwarzania danych na dużą skalę\n",
    "2. Projekt open source, od 2013 w Apache Software FOundation\n",
    "3. Napisany w Scali \n",
    "4. Udostępnia API w Java, Scala, Python, R \n",
    "\n",
    "\n",
    "### Instalacja i uruchomienie \n",
    "\n",
    "1. Wersja trywialna (Docker) \n",
    "\n",
    "```{bash}\n",
    "docker run -d -p 8888:8888 -v \"full_path_to_your_folder:/notebooks\" sebkaz/docker-spark-jupyter\n",
    "```\n",
    "\n",
    "```{bash}\n",
    "docker run -d -p 8888:8888 -v \"full_path_to_your_folder:/notebooks\" jupyter/pyspark-notebook\n",
    "```\n",
    "\n",
    "2. Wersja trywialna trywialna (komputer ze środowiskiem Python + JDK JAVA przynajmniej w wersji 8) \n",
    "\n",
    "    - [Ściągnij katalog](https://www.apache.org/dyn/closer.lua/spark/spark-3.1.1/spark-3.1.1-bin-hadoop2.7.tgz)\n",
    "    - Rozpakuj np 7z\n",
    "    - umieść w wygodnym miejscu i zapisz ścieżkę (będzie potrzebna do findspark() )\n",
    "    - uruchom jupyter notebook'a\n"
   ]
  },
  {
   "cell_type": "code",
   "execution_count": null,
   "id": "f53f8596",
   "metadata": {},
   "outputs": [],
   "source": [
    "import findspark\n",
    "# findspark.init()\n",
    "# findspark.init(\"C:/Users/SebastianZajac/Desktop/spark\")\n",
    "findspark.init(\"/Users/air/Desktop/spark/\") # on my mac"
   ]
  },
  {
   "cell_type": "markdown",
   "id": "bf9ebc8a",
   "metadata": {},
   "source": [
    "### SparkContext\n",
    "\n",
    "1. Główny, podstawowy obiekt\n",
    "2. Punkt wejścia do pracy ze Sparkiem\n",
    "3. Generowanie obiektów RDD"
   ]
  },
  {
   "cell_type": "code",
   "execution_count": null,
   "id": "bf34403c",
   "metadata": {},
   "outputs": [],
   "source": [
    "# inicjalizacja SparkContext\n",
    "from pyspark import SparkContext\n",
    "sc = SparkContext(appName=\"myAppName\")"
   ]
  },
  {
   "cell_type": "code",
   "execution_count": null,
   "id": "fc8f02f5",
   "metadata": {},
   "outputs": [],
   "source": [
    "sc"
   ]
  },
  {
   "cell_type": "markdown",
   "id": "81f1dcd1",
   "metadata": {},
   "source": [
    "### SparkSession\n",
    "\n",
    "1. Główny punkt wyjścia do SparkSQL\n",
    "2. Opakowuje (wrapper) SparkContext\n",
    "3. Zazwyczaj pierwszy obiekt, który będziemy tworzyć"
   ]
  },
  {
   "cell_type": "code",
   "execution_count": null,
   "id": "fabfff0e",
   "metadata": {},
   "outputs": [],
   "source": [
    "from pyspark.sql import SparkSession\n",
    "\n",
    "spark = SparkSession.builder\\\n",
    "        .appName(\"new\")\\\n",
    "        .getOrCreate()\n",
    "# otrzymanie obiektu SparkContext\n",
    "sc = spark.sparkContext"
   ]
  },
  {
   "cell_type": "code",
   "execution_count": null,
   "id": "f1771dfd",
   "metadata": {},
   "outputs": [],
   "source": [
    "spark"
   ]
  },
  {
   "cell_type": "code",
   "execution_count": null,
   "id": "7fbe2c93",
   "metadata": {},
   "outputs": [],
   "source": [
    "sc"
   ]
  },
  {
   "cell_type": "markdown",
   "id": "9871dcc0",
   "metadata": {},
   "source": [
    "### RDD\n",
    "\n",
    "- Resilient Distributed Dataset\n",
    "- Podstawowa abstrakcja oraz rdzeń Sparka\n",
    "- Obsługiwane przez dwa rodzaje operacji:\n",
    "    - Akcje:\n",
    "        - operacje uruchamiająceegzekucję transformacji na RDD\n",
    "        - przyjmują RDD jako input i zwracają wynik NIE będący RDD\n",
    "    - Transformacje:\n",
    "        - leniwe operacje\n",
    "        - przyjmują RDD i zwracają RDD\n",
    "\n",
    "- In-Memory - dane RDD przechowywane w pamięci\n",
    "- Immutable \n",
    "- Lazy evaluated\n",
    "- Parallel - przetwarzane równolegle\n",
    "- Partitioned - rozproszone \n",
    "\n",
    "## WAŻNE informacje !\n",
    "\n",
    "Ważne do zrozumienia działania SPARKA:\n",
    "\n",
    "Term                   |Definition\n",
    "----                   |-------\n",
    "RDD                    |Resilient Distributed Dataset\n",
    "Transformation         |Spark operation that produces an RDD\n",
    "Action                 |Spark operation that produces a local object\n",
    "Spark Job              |Sequence of transformations on data with a final action\n",
    "\n",
    "\n",
    "Dwie podstawowe metody tworzenia RDD:\n",
    "\n",
    "Method                      |Result\n",
    "----------                               |-------\n",
    "`sc.parallelize(array)`                  |Create RDD of elements of array (or list)\n",
    "`sc.textFile(path/to/file)`                      |Create RDD of lines from file\n",
    "\n",
    "Podstawowe transformacje\n",
    "\n",
    "Transformation Example                          |Result\n",
    "----------                               |-------\n",
    "`filter(lambda x: x % 2 == 0)`           |Discard non-even elements\n",
    "`map(lambda x: x * 2)`                   |Multiply each RDD element by `2`\n",
    "`map(lambda x: x.split())`               |Split each string into words\n",
    "`flatMap(lambda x: x.split())`           |Split each string into words and flatten sequence\n",
    "`sample(withReplacement=True,0.25)`      |Create sample of 25% of elements with replacement\n",
    "`union(rdd)`                             |Append `rdd` to existing RDD\n",
    "`distinct()`                             |Remove duplicates in RDD\n",
    "`sortBy(lambda x: x, ascending=False)`   |Sort elements in descending order\n",
    "\n",
    "Podstawowe akcje \n",
    "\n",
    "Action                             |Result\n",
    "----------                             |-------\n",
    "`collect()`                            |Convert RDD to in-memory list \n",
    "`take(3)`                              |First 3 elements of RDD \n",
    "`top(3)`                               |Top 3 elements of RDD\n",
    "`takeSample(withReplacement=True,3)`   |Create sample of 3 elements with replacement\n",
    "`sum()`                                |Find element sum (assumes numeric elements)\n",
    "`mean()`                               |Find element mean (assumes numeric elements)\n",
    "`stdev()`                              |Find element deviation (assumes numeric elements)"
   ]
  },
  {
   "cell_type": "markdown",
   "id": "1bbd71a9",
   "metadata": {},
   "source": [
    "-----\n",
    "- **parallelize(c)** - tworzenie RDD na podstawie lokalnej kolekcji\n",
    "- **map(f)** - zwraca nowe RDD po zastosowaniu podanej funkcji na każdym elemencie oryginalnego RDD (**T**)\n",
    "- **filter(f)** - zwraca nowe RDD zawierające jedynie elementy które spełniają predykat (**T**)\n",
    "- **reduce(f)** - agreguje elementy zbioru wykorzystując podaną funkcję. Funkcja redukująca musi być asocjacyjna [(a x b) x c = a x (b x c)] i przemienna [a x b = b x a] (**A**)"
   ]
  },
  {
   "cell_type": "code",
   "execution_count": null,
   "id": "5c17960d",
   "metadata": {},
   "outputs": [],
   "source": [
    "rdd = sc.parallelize(range(10)) # utworzenie RDD \n",
    "\n",
    "rdd"
   ]
  },
  {
   "cell_type": "code",
   "execution_count": null,
   "id": "94abdbed",
   "metadata": {},
   "outputs": [],
   "source": [
    "rdd.collect() # akcja "
   ]
  },
  {
   "cell_type": "code",
   "execution_count": null,
   "id": "aa737270",
   "metadata": {},
   "outputs": [],
   "source": [
    "rdd.take(2)"
   ]
  },
  {
   "cell_type": "code",
   "execution_count": null,
   "id": "496abf13",
   "metadata": {},
   "outputs": [],
   "source": [
    "rdd.takeSample(True,3)"
   ]
  },
  {
   "cell_type": "code",
   "execution_count": null,
   "id": "0384f48d",
   "metadata": {},
   "outputs": [],
   "source": [
    "rdd.takeSample(False,3)"
   ]
  },
  {
   "cell_type": "code",
   "execution_count": null,
   "id": "4e41a2da",
   "metadata": {},
   "outputs": [],
   "source": [
    "rdd.count()"
   ]
  },
  {
   "cell_type": "code",
   "execution_count": null,
   "id": "161fa1fc",
   "metadata": {},
   "outputs": [],
   "source": [
    "rdd.mean()"
   ]
  },
  {
   "cell_type": "code",
   "execution_count": null,
   "id": "fd07a615",
   "metadata": {},
   "outputs": [],
   "source": [
    "%%file example.txt\n",
    "first \n",
    "second line\n",
    "the third line\n",
    "then a fourth line"
   ]
  },
  {
   "cell_type": "code",
   "execution_count": null,
   "id": "fc41d4c9",
   "metadata": {},
   "outputs": [],
   "source": [
    "text_rdd = sc.textFile('example.txt')"
   ]
  },
  {
   "cell_type": "code",
   "execution_count": null,
   "id": "ae1e0674",
   "metadata": {},
   "outputs": [],
   "source": [
    "text_rdd.first()"
   ]
  },
  {
   "cell_type": "code",
   "execution_count": null,
   "id": "320c9cf0",
   "metadata": {},
   "outputs": [],
   "source": [
    "text_rdd.take(3)"
   ]
  },
  {
   "cell_type": "code",
   "execution_count": null,
   "id": "eca13c2e",
   "metadata": {},
   "outputs": [],
   "source": [
    "text_rdd.takeSample(True,2)"
   ]
  },
  {
   "cell_type": "code",
   "execution_count": null,
   "id": "a42eeaa8",
   "metadata": {},
   "outputs": [],
   "source": [
    "text_rdd.takeSample(False,2)"
   ]
  },
  {
   "cell_type": "code",
   "execution_count": null,
   "id": "28613628",
   "metadata": {},
   "outputs": [],
   "source": [
    "text_rdd.count()"
   ]
  },
  {
   "cell_type": "code",
   "execution_count": null,
   "id": "beb193d0",
   "metadata": {},
   "outputs": [],
   "source": [
    "rdd1 = sc.parallelize(range(1,20))\n",
    "rdd2 = sc.parallelize(range(10,25))\n",
    "rdd3 = rdd1.union(rdd2)\n",
    "rdd3.collect()"
   ]
  },
  {
   "cell_type": "code",
   "execution_count": null,
   "id": "313469f8",
   "metadata": {},
   "outputs": [],
   "source": [
    "rdd4 = rdd3.distinct()\n",
    "rdd4.collect()"
   ]
  },
  {
   "cell_type": "markdown",
   "id": "9352104f",
   "metadata": {},
   "source": [
    "-----\n",
    "- **parallelize(c)** - tworzenie RDD na podstawie lokalnej kolekcji\n",
    "- **map(f)** - zwraca nowe RDD po zastosowaniu podanej funkcji na każdym elemencie oryginalnego RDD (**T**)\n",
    "- **filter(f)** - zwraca nowe RDD zawierające jedynie elementy które spełniają predykat (**T**)\n",
    "- **reduce(f)** - agreguje elementy zbioru wykorzystując podaną funkcję. Funkcja redukująca musi być asocjacyjna [(a x b) x c = a x (b x c)] i przemienna [a x b = b x a] (**A**)"
   ]
  },
  {
   "cell_type": "markdown",
   "id": "e53ea661",
   "metadata": {},
   "source": [
    "#### Map vs. FlatMap"
   ]
  },
  {
   "cell_type": "code",
   "execution_count": null,
   "id": "fed470be",
   "metadata": {},
   "outputs": [],
   "source": [
    "text_rdd.map(lambda line: line.split()).collect()"
   ]
  },
  {
   "cell_type": "code",
   "execution_count": null,
   "id": "e70f0f50",
   "metadata": {},
   "outputs": [],
   "source": [
    "# Collect everything as a single flat map\n",
    "text_rdd.flatMap(lambda line: line.split()).collect()"
   ]
  },
  {
   "cell_type": "code",
   "execution_count": null,
   "id": "8c4eeb16",
   "metadata": {},
   "outputs": [],
   "source": [
    "sc.parallelize(range(20)) \\\n",
    ".map(lambda x: x * 2) \\\n",
    ".filter(lambda x: x != 2) \\\n",
    ".reduce(lambda x,y: x + y)"
   ]
  },
  {
   "cell_type": "code",
   "execution_count": null,
   "id": "7e52b976",
   "metadata": {},
   "outputs": [],
   "source": [
    "sc.parallelize(range(20)).collect() # rozproszenie -> parallelize -> collect powrot"
   ]
  },
  {
   "cell_type": "code",
   "execution_count": null,
   "id": "0f2a7c68",
   "metadata": {},
   "outputs": [],
   "source": [
    "sc.parallelize(range(20)).map(lambda x: x * 2).collect()"
   ]
  },
  {
   "cell_type": "code",
   "execution_count": null,
   "id": "8ef8db67",
   "metadata": {},
   "outputs": [],
   "source": [
    "sc.parallelize(range(20)) \\\n",
    ".map(lambda x: x * 2).filter(lambda x: x != 2).collect()"
   ]
  },
  {
   "cell_type": "markdown",
   "id": "2d2452af",
   "metadata": {},
   "source": [
    "----\n",
    "- **textFile(p)** - tworzenie RDD na podstawie pliku. Jeden wiersz = jeden element RDD\n",
    "- **flatMap(f)** - zwraca nowe RDD po zastosowaniu podanej funkcji na każdym elemencie oryginalnego RDD oraz spłaszczeniu rezultatu (**T**)\n",
    "- **reduceByKey(f)** - zwraca RDD z połączonymi wartościami dla każdego klucza. Funkcja redukująca musi być asocjacyjna [(a x b) x c = a x (b x c)] i przemienna [a x b = b x a] (**T**)\n",
    "- **collect()** - zwraca elementy RDD na driver (**A**)"
   ]
  },
  {
   "cell_type": "code",
   "execution_count": null,
   "id": "8c64edf3",
   "metadata": {},
   "outputs": [],
   "source": [
    "import re"
   ]
  },
  {
   "cell_type": "code",
   "execution_count": null,
   "id": "3e2c06a6",
   "metadata": {},
   "outputs": [],
   "source": [
    "sc.textFile(\"RDD_input\") \\\n",
    ".map(lambda x: re.findall(r\"[a-z']+\", x.lower())) \\\n",
    ".flatMap(lambda x: [(y, 1) for y in x]) \\\n",
    ".reduceByKey(lambda x,y: x + y) \\\n",
    ".collect()"
   ]
  },
  {
   "cell_type": "code",
   "execution_count": null,
   "id": "3777c8b0",
   "metadata": {},
   "outputs": [],
   "source": [
    "sc.textFile(\"RDD_input\") \\\n",
    ".map(lambda x: re.findall(r\"[a-z']+\", x.lower())) \\\n",
    ".flatMap(lambda x: [(y, 1) for y in x]).collect()"
   ]
  },
  {
   "cell_type": "code",
   "execution_count": null,
   "id": "965207d2",
   "metadata": {},
   "outputs": [],
   "source": [
    "sc.textFile(\"RDD_input\") \\\n",
    ".map(lambda x: re.findall(r\"[a-z']+\", x.lower())).collect()"
   ]
  },
  {
   "cell_type": "markdown",
   "id": "42f90191",
   "metadata": {},
   "source": [
    "> ZADANIE"
   ]
  },
  {
   "cell_type": "code",
   "execution_count": null,
   "id": "8ef05b21",
   "metadata": {},
   "outputs": [],
   "source": [
    "rawMD = sc.textFile(\"MobyDick.txt\")\n",
    "rawMD.take(10)"
   ]
  },
  {
   "cell_type": "markdown",
   "id": "0482a4f0",
   "metadata": {},
   "source": [
    "### SQL "
   ]
  },
  {
   "cell_type": "code",
   "execution_count": null,
   "id": "3c132a16",
   "metadata": {},
   "outputs": [],
   "source": [
    "empHist = spark.read.parquet(\"salary_hist\")\n"
   ]
  },
  {
   "cell_type": "code",
   "execution_count": null,
   "id": "e0766432",
   "metadata": {},
   "outputs": [],
   "source": [
    "empHist.show()"
   ]
  },
  {
   "cell_type": "code",
   "execution_count": null,
   "id": "3643c8b7",
   "metadata": {},
   "outputs": [],
   "source": [
    "empHist.select(\"name\").explain()"
   ]
  },
  {
   "cell_type": "code",
   "execution_count": null,
   "id": "6d559ca7",
   "metadata": {},
   "outputs": [],
   "source": [
    "adultDF = spark.read.csv(\"adult.data\", inferSchema=True, ignoreLeadingWhiteSpace=True)"
   ]
  },
  {
   "cell_type": "code",
   "execution_count": null,
   "id": "47ade9da",
   "metadata": {},
   "outputs": [],
   "source": [
    "adultDF.take(1)"
   ]
  },
  {
   "cell_type": "code",
   "execution_count": null,
   "id": "c4350553",
   "metadata": {},
   "outputs": [],
   "source": [
    "col_names = [\"age\", \"workclass\", \"fnlwgt\", \"education\", \"education-num\",\"marital-status\", \"occupation\", \n",
    "             \"relationship\", \"race\", \"sex\", \"capital-gain\", \"capital-loss\", \"hours-per-week\", \n",
    "             \"native-country\", \"earnings\"]"
   ]
  },
  {
   "cell_type": "code",
   "execution_count": null,
   "id": "979a8efc",
   "metadata": {},
   "outputs": [],
   "source": [
    "adultDF = adultDF.toDF(*col_names).drop(\"fnlwgt\").dropna(\"any\")"
   ]
  },
  {
   "cell_type": "code",
   "execution_count": null,
   "id": "c0016f30",
   "metadata": {},
   "outputs": [],
   "source": [
    "adultDF.show(3, vertical=True)"
   ]
  },
  {
   "cell_type": "code",
   "execution_count": null,
   "id": "bf44800c",
   "metadata": {},
   "outputs": [],
   "source": [
    "adultDF.printSchema()"
   ]
  },
  {
   "cell_type": "code",
   "execution_count": null,
   "id": "f8af946f",
   "metadata": {},
   "outputs": [],
   "source": [
    "adultDF.show(3)"
   ]
  },
  {
   "cell_type": "code",
   "execution_count": null,
   "id": "586f7da1",
   "metadata": {},
   "outputs": [],
   "source": [
    "adultDF.groupBy('education').mean().show()"
   ]
  },
  {
   "cell_type": "code",
   "execution_count": null,
   "id": "2795adb9",
   "metadata": {},
   "outputs": [],
   "source": [
    "adultDF.write.saveAsTable(\"adult_bucket\")"
   ]
  },
  {
   "cell_type": "code",
   "execution_count": null,
   "id": "70d66dff",
   "metadata": {},
   "outputs": [],
   "source": [
    "newAdult = spark.sql(\"select age, education, sex from adult_bucket where age > 50\")"
   ]
  },
  {
   "cell_type": "code",
   "execution_count": null,
   "id": "3012dcc8",
   "metadata": {},
   "outputs": [],
   "source": [
    "newAdult.show(3)"
   ]
  },
  {
   "cell_type": "code",
   "execution_count": null,
   "id": "e02160d9",
   "metadata": {},
   "outputs": [],
   "source": []
  }
 ],
 "metadata": {
  "kernelspec": {
   "display_name": "Python 3",
   "language": "python",
   "name": "python3"
  },
  "language_info": {
   "codemirror_mode": {
    "name": "ipython",
    "version": 3
   },
   "file_extension": ".py",
   "mimetype": "text/x-python",
   "name": "python",
   "nbconvert_exporter": "python",
   "pygments_lexer": "ipython3",
   "version": "3.8.9"
  }
 },
 "nbformat": 4,
 "nbformat_minor": 5
}
